{
 "cells": [
  {
   "cell_type": "code",
   "execution_count": 1,
   "metadata": {},
   "outputs": [],
   "source": [
    "import urllib.parse as ps"
   ]
  },
  {
   "cell_type": "code",
   "execution_count": 2,
   "metadata": {},
   "outputs": [],
   "source": [
    "def string_replace(str_input):\n",
    "    str_ret = str_input\n",
    "    str_dict = {\n",
    "        '://': ' ',\n",
    "        #'&': ' ',  ----这个也替换的反而精确度不高\n",
    "        '/': ' ',\n",
    "        '?': ' ',\n",
    "        '=':' ',\n",
    "        ':':' ',\n",
    "        '�':' '\n",
    "    }\n",
    "    for key in str_dict:\n",
    "        str_ret = str_ret.replace(key, str_dict[key])\n",
    "    return str_ret"
   ]
  },
  {
   "cell_type": "code",
   "execution_count": 3,
   "metadata": {},
   "outputs": [],
   "source": [
    "def http_request_extraction(fread, fwrite):\n",
    "    # extract the http request string\n",
    "    text = fread.readlines()\n",
    "    lines = len(text)\n",
    "    i = 0\n",
    "    while i < lines:\n",
    "        line = text[i]\n",
    "        n = len(line)\n",
    "       # print(\"i=\"+str(i))\n",
    "        if line.startswith('GET'):        \n",
    "            cmdGET = line[0:n-10]\n",
    "            cmdStr = ps.unquote_plus(cmdGET)+'\\n'\n",
    "            cmdStr = string_replace(cmdStr).lstrip()\n",
    "            fwrite.write(cmdStr.encode('utf-8').lower())\n",
    "           # print(cmdStr) \n",
    "            i = i+12\n",
    "        if line.startswith('POST'): \n",
    "            cmdPOST = line[0:n-10]\n",
    "            cmdPOST = cmdPOST + '?' + text[i+14][:-1]\n",
    "            cmdStr = ps.unquote_plus(cmdPOST)+'\\n'\n",
    "            cmdStr = string_replace(cmdStr).lstrip()\n",
    "            fwrite.write(cmdStr.encode('utf-8').lower())\n",
    "           # print(cmdStr)\n",
    "           # print(\"i=\"+str(i))\n",
    "        if line.startswith('PUT'): \n",
    "            cmdPUT = line[0:n-10]\n",
    "            cmdPUT = cmdPUT + '?' + text[i+14][:-1]\n",
    "            cmdStr = ps.unquote_plus(cmdPUT)+'\\n'\n",
    "            cmdStr = string_replace(cmdStr).lstrip()\n",
    "            fwrite.write(cmdStr.encode('utf-8').lower())\n",
    "           # print(cmdStr)\n",
    "        i = i+1"
   ]
  },
  {
   "cell_type": "code",
   "execution_count": 8,
   "metadata": {},
   "outputs": [],
   "source": [
    "fwriteNTest = open('./normalTrafficTestFeature.txt','wb')\n",
    "freadNTest  = open('./normalTrafficTest.txt', \n",
    "                   encoding='utf-8')\n",
    "http_request_extraction(freadNTest, fwriteNTest)\n",
    "fwriteNTest.close()"
   ]
  },
  {
   "cell_type": "code",
   "execution_count": 6,
   "metadata": {},
   "outputs": [],
   "source": [
    "fwriteATest = open('./anomalousTrafficTestFeature.txt','wb')\n",
    "freadATest  = open('./anomalousTrafficTest.txt', \n",
    "                   encoding='utf-8')\n",
    "http_request_extraction(freadATest, fwriteATest)\n",
    "fwriteATest.close()"
   ]
  },
  {
   "cell_type": "code",
   "execution_count": 9,
   "metadata": {},
   "outputs": [],
   "source": [
    "fwriteAll = open('./TestAll.txt','wb')\n",
    "freadNTest  = open('./normalTrafficTest.txt', \n",
    "                   encoding='utf-8')\n",
    "freadATest  = open('./anomalousTrafficTest.txt',\n",
    "                   encoding='utf-8')\n",
    "http_request_extraction(freadNTest, fwriteAll)\n",
    "http_request_extraction(freadATest, fwriteAll)\n",
    "fwriteAll.close()"
   ]
  },
  {
   "cell_type": "code",
   "execution_count": 4,
   "metadata": {},
   "outputs": [],
   "source": [
    "fwriteAll = open('./All.txt','wb')\n",
    "freadNTest  = open('./normalTrafficTest.txt', \n",
    "                   encoding='utf-8')\n",
    "freadNTrain  = open('./normalTrafficTraining.txt', \n",
    "                   encoding='utf-8')\n",
    "freadATest  = open('./anomalousTrafficTest.txt',\n",
    "                   encoding='utf-8')\n",
    "http_request_extraction(freadNTest, fwriteAll)\n",
    "http_request_extraction(freadNTrain,fwriteAll)\n",
    "http_request_extraction(freadATest, fwriteAll)\n",
    "fwriteAll.close()"
   ]
  },
  {
   "cell_type": "code",
   "execution_count": 10,
   "metadata": {},
   "outputs": [],
   "source": [
    "fwriteNTrain = open('./normalTrafficTraingFeature.txt','wb')\n",
    "freadNTrain  = open('./normalTrafficTraining.txt', \n",
    "                   encoding='utf-8')\n",
    "http_request_extraction(freadNTrain, fwriteNTrain)\n",
    "fwriteNTrain.close()"
   ]
  },
  {
   "cell_type": "code",
   "execution_count": 7,
   "metadata": {},
   "outputs": [],
   "source": [
    "fwriteAll = open('./NormalAll.txt','wb')\n",
    "freadNTest  = open('./normalTrafficTest.txt', \n",
    "                   encoding='utf-8')\n",
    "freadNTrain  = open('./normalTrafficTraining.txt', \n",
    "                   encoding='utf-8')\n",
    "http_request_extraction(freadNTest, fwriteAll)\n",
    "http_request_extraction(freadNTrain, fwriteAll)\n",
    "fwriteAll.close()"
   ]
  },
  {
   "cell_type": "code",
   "execution_count": null,
   "metadata": {},
   "outputs": [],
   "source": []
  }
 ],
 "metadata": {
  "kernelspec": {
   "display_name": "Python 3",
   "language": "python",
   "name": "python3"
  },
  "language_info": {
   "codemirror_mode": {
    "name": "ipython",
    "version": 3
   },
   "file_extension": ".py",
   "mimetype": "text/x-python",
   "name": "python",
   "nbconvert_exporter": "python",
   "pygments_lexer": "ipython3",
   "version": "3.6.2"
  }
 },
 "nbformat": 4,
 "nbformat_minor": 2
}
