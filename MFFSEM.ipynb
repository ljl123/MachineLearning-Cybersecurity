{
 "cells": [
  {
   "cell_type": "code",
   "execution_count": 1,
   "metadata": {},
   "outputs": [],
   "source": [
    "import numpy as np\n",
    "import sklearn   \n",
    "import os, sys\n",
    "import pandas as pd\n",
    "from sklearn.ensemble import ExtraTreesClassifier, RandomForestClassifier, GradientBoostingClassifier\n",
    "from sklearn.linear_model import LogisticRegression\n",
    "from lightgbm import LGBMClassifier\n",
    "from sklearn.tree import DecisionTreeClassifier\n",
    "from sklearn import model_selection\n",
    "import numpy as np\n",
    "from sklearn.model_selection import StratifiedKFold\n",
    "#参数配置模块\n",
    "from easydict import EasyDict as edict\n",
    "config = edict()\n",
    "config.TRAINDATA='./data/NSL-KDD/KDDTrain_20Percent.csv'\n",
    "config.TESTDATA='./data/NSL-KDD/KDDTest.csv'"
   ]
  },
  {
   "cell_type": "code",
   "execution_count": 2,
   "metadata": {},
   "outputs": [
    {
     "data": {
      "text/plain": [
       "(22544, 43)"
      ]
     },
     "execution_count": 2,
     "metadata": {},
     "output_type": "execute_result"
    }
   ],
   "source": [
    "train = pd.read_csv(config.TRAINDATA, header=None)\n",
    "test = pd.read_csv(config.TESTDATA, header=None)\n",
    "test.shape"
   ]
  },
  {
   "cell_type": "markdown",
   "metadata": {},
   "source": [
    " 将标签转换为两类"
   ]
  },
  {
   "cell_type": "code",
   "execution_count": 3,
   "metadata": {},
   "outputs": [],
   "source": [
    "train[41] = np.where(train[41]==0, 0, 1)\n",
    "test[41] = np.where(test[41]==0, 0, 1)"
   ]
  },
  {
   "cell_type": "code",
   "execution_count": 4,
   "metadata": {},
   "outputs": [],
   "source": [
    "X_train = np.array(train[train.columns.difference([41,42])])\n",
    "y_train=np.array(train[41])\n",
    "X_test = np.array(test[test.columns.difference([41,42])])\n",
    "y_test=np.array(test[41])"
   ]
  },
  {
   "cell_type": "code",
   "execution_count": 5,
   "metadata": {},
   "outputs": [],
   "source": [
    "# 评估\n",
    "from sklearn.metrics import roc_auc_score\n",
    "from sklearn.metrics import accuracy_score\n",
    "from sklearn.metrics import confusion_matrix\n",
    "from sklearn.metrics import precision_score\n",
    "from sklearn.metrics import recall_score\n",
    "from sklearn.metrics import f1_score\n",
    "def getScore(y_test,y_pred):\n",
    "#     print(\"Precision\", precision_score(y_test, y_pred))\n",
    "#     print(\"recall_score\", recall_score(y_test, y_pred))\n",
    "    print(\"Accuracy:\"+str(accuracy_score(y_test,y_pred)))\n",
    "    print(\"confusion_matrix\", confusion_matrix(y_test, y_pred))\n",
    "    c=confusion_matrix(y_test, y_pred)\n",
    "    recall=c[0][0]/(c[0][0]+c[0][1])\n",
    "    precision=c[0][0]/(c[0][0]+c[1][0])\n",
    "    f1=(2*recall*precision)/(recall+precision)\n",
    "    print(\"Recall:\"+str(recall))\n",
    "    print(\"Precision:\"+str(precision))\n",
    "    print(\"F-M\", str(f1))\n",
    "    print(\"FPR:\"+str(c[1][0]/(c[1][0]+c[1][1])))\n",
    "    print(\"AUC:\"+str(roc_auc_score(y_test,y_pred)))"
   ]
  },
  {
   "cell_type": "markdown",
   "metadata": {},
   "source": [
    "融合四种类型的特征C(4,2)"
   ]
  },
  {
   "cell_type": "code",
   "execution_count": 6,
   "metadata": {},
   "outputs": [
    {
     "name": "stdout",
     "output_type": "stream",
     "text": [
      "Accuracy:0.8081973030518098\n",
      "confusion_matrix [[9365  346]\n",
      " [3978 8855]]\n",
      "Recall:0.9643703017196993\n",
      "Precision:0.7018661470433936\n",
      "F-M 0.8124403574217055\n",
      "FPR:0.3099820774565573\n",
      "AUC:0.8271941121315709\n",
      "Took 1.582291 second\n"
     ]
    }
   ],
   "source": [
    "from mlxtend.classifier import StackingClassifier\n",
    "from mlxtend.feature_selection import ColumnSelector\n",
    "from sklearn.pipeline import make_pipeline\n",
    "from catboost import CatBoostClassifier\n",
    "from sklearn.neighbors import KNeighborsClassifier\n",
    "import time\n",
    "start_time = time.time()  # 记录程序开始运行时间\n",
    "#0-8 #9-21 #22-30 #31-40\n",
    "pipe1 = make_pipeline(ColumnSelector(cols=(0,1,2,3,4,5,6,7,8,9,10,11,12,13,14,15,16,17,18,19,20,21)),\n",
    "                      DecisionTreeClassifier())\n",
    "pipe2 = make_pipeline(ColumnSelector(cols=(0,1,2,3,4,5,6,7,8,22,23,24,25,26,27,28,29,30)),\n",
    "                      DecisionTreeClassifier())\n",
    "pipe3 = make_pipeline(ColumnSelector(cols=(0,1,2,3,4,5,6,7,8,31,32,33,34,35,36,37,38,39,40)),\n",
    "                      DecisionTreeClassifier())\n",
    "pipe4 = make_pipeline(ColumnSelector(cols=(9,10,11,12,13,14,15,16,17,18,19,20,21,22,23,24,25,26,27,28,29,30)),\n",
    "                      DecisionTreeClassifier())\n",
    "pipe5 = make_pipeline(ColumnSelector(cols=(9,10,11,12,13,14,15,16,17,18,19,20,21,31,32,33,34,35,36,37,38,39,40)),\n",
    "                      DecisionTreeClassifier())\n",
    "pipe6 = make_pipeline(ColumnSelector(cols=(22,23,24,25,26,27,28,29,30,31,32,33,34,35,36,37,38,39,40)),\n",
    "                      DecisionTreeClassifier())\n",
    "sclf = StackingClassifier(classifiers=[pipe1, pipe2,pipe3, pipe4,pipe5, pipe6], use_probas=True,\n",
    "                         average_probas=True,meta_classifier=RandomForestClassifier())\n",
    "sclf.fit(X_train, y_train)\n",
    "y_pred = sclf.predict(X_test)\n",
    "getScore(y_test,y_pred)\n",
    "end_time = time.time()  # 记录程序结束运行时间\n",
    "print('Took %f second' % (end_time - start_time))"
   ]
  },
  {
   "cell_type": "markdown",
   "metadata": {},
   "source": [
    "融合四种类型的特征C(4,3)"
   ]
  },
  {
   "cell_type": "code",
   "execution_count": 9,
   "metadata": {},
   "outputs": [
    {
     "name": "stdout",
     "output_type": "stream",
     "text": [
      "Accuracy:0.8471877217885024\n",
      "confusion_matrix [[9365  346]\n",
      " [3099 9734]]\n",
      "Recall:0.9643703017196993\n",
      "Precision:0.7513639281129654\n",
      "F-M 0.8446448703494925\n",
      "FPR:0.24148679186472377\n",
      "AUC:0.8614417549274879\n",
      "Took 1.240714 second\n"
     ]
    }
   ],
   "source": [
    "from mlxtend.classifier import StackingClassifier\n",
    "from mlxtend.feature_selection import ColumnSelector\n",
    "from sklearn.pipeline import make_pipeline\n",
    "from catboost import CatBoostClassifier\n",
    "from sklearn.neighbors import KNeighborsClassifier\n",
    "import time\n",
    "start_time = time.time()  # 记录程序开始运行时间\n",
    "#0-8 #9-21 #22-30 #31-40\n",
    "pipe1 = make_pipeline(ColumnSelector(cols=(0,1,2,3,4,5,6,7,8,9,10,11,12,13,14,15,16,17,\n",
    "                                           18,19,20,21,22,23,24,25,26,27,28,29,30)),\n",
    "                      DecisionTreeClassifier())\n",
    "pipe2 = make_pipeline(ColumnSelector(cols=(0,1,2,3,4,5,6,7,8,9,10,11,12,13,14,15,16,17,\n",
    "                                           18,19,20,21,31,32,33,34,35,36,37,38,39,40)),\n",
    "                      DecisionTreeClassifier())\n",
    "pipe3 = make_pipeline(ColumnSelector(cols=(0,1,2,3,4,5,6,7,8,22,23,24,25,26,27,28,29,\n",
    "                                           30,31,32,33,34,35,36,37,38,39,40)),\n",
    "                      DecisionTreeClassifier())\n",
    "pipe4 = make_pipeline(ColumnSelector(cols=(9,10,11,12,13,14,15,16,17,18,19,20,21,22,23,24,\n",
    "                                           25,26,27,28,29,30,31,32,33,34,35,36,37,38,39,40)),\n",
    "                      DecisionTreeClassifier())\n",
    "sclf = StackingClassifier(classifiers=[pipe1, pipe2,pipe3, pipe4], use_probas=True,\n",
    "                          average_probas=True,meta_classifier=RandomForestClassifier())\n",
    "sclf.fit(X_train, y_train)\n",
    "y_pred = sclf.predict(X_test)\n",
    "getScore(y_test,y_pred)\n",
    "end_time = time.time()  # 记录程序结束运行时间\n",
    "print('Took %f second' % (end_time - start_time))"
   ]
  },
  {
   "cell_type": "markdown",
   "metadata": {},
   "source": [
    "融合四种类型的特征C(4,1)"
   ]
  },
  {
   "cell_type": "code",
   "execution_count": 10,
   "metadata": {},
   "outputs": [
    {
     "name": "stdout",
     "output_type": "stream",
     "text": [
      "Accuracy:0.7640170333569908\n",
      "confusion_matrix [[9013  698]\n",
      " [4622 8211]]\n",
      "Recall:0.9281227473998558\n",
      "Precision:0.661019435276861\n",
      "F-M 0.7721237042748222\n",
      "FPR:0.3601651990960804\n",
      "AUC:0.7839787741518877\n",
      "Took 1.192164 second\n"
     ]
    }
   ],
   "source": [
    "from mlxtend.classifier import StackingClassifier\n",
    "from mlxtend.feature_selection import ColumnSelector\n",
    "from sklearn.pipeline import make_pipeline\n",
    "from catboost import CatBoostClassifier\n",
    "from sklearn.neighbors import KNeighborsClassifier\n",
    "import time\n",
    "start_time = time.time()  # 记录程序开始运行时间\n",
    "#0-8 #9-21 #22-30 #31-40\n",
    "pipe1 = make_pipeline(ColumnSelector(cols=(0,1,2,3,4,5,6,7,8)),\n",
    "                      DecisionTreeClassifier())\n",
    "pipe2 = make_pipeline(ColumnSelector(cols=(9,10,11,12,13,14,15,16,17,18,19,20,21)),\n",
    "                      DecisionTreeClassifier())\n",
    "pipe3 = make_pipeline(ColumnSelector(cols=(22,23,24,25,26,27,28,29,30)),\n",
    "                      DecisionTreeClassifier())\n",
    "pipe4 = make_pipeline(ColumnSelector(cols=(31,32,33,34,35,36,37,38,39,40)),\n",
    "                      DecisionTreeClassifier())\n",
    "sclf = StackingClassifier(classifiers=[pipe1, pipe2,pipe3, pipe4], use_probas=True,\n",
    "                          average_probas=True,meta_classifier=RandomForestClassifier())\n",
    "sclf.fit(X_train, y_train)\n",
    "y_pred = sclf.predict(X_test)\n",
    "getScore(y_test,y_pred)\n",
    "end_time = time.time()  # 记录程序结束运行时间\n",
    "print('Took %f second' % (end_time - start_time))"
   ]
  },
  {
   "cell_type": "markdown",
   "metadata": {},
   "source": [
    "融合四种类型的特征C(4,4)"
   ]
  },
  {
   "cell_type": "code",
   "execution_count": 11,
   "metadata": {},
   "outputs": [
    {
     "name": "stdout",
     "output_type": "stream",
     "text": [
      "Accuracy:0.8155606813342796\n",
      "confusion_matrix [[9396  315]\n",
      " [3843 8990]]\n",
      "Recall:0.9675625579240037\n",
      "Precision:0.7097212780421482\n",
      "F-M 0.8188235294117646\n",
      "FPR:0.2994623236967194\n",
      "AUC:0.8340501171136422\n",
      "Took 0.932677 second\n"
     ]
    }
   ],
   "source": [
    "from mlxtend.classifier import StackingClassifier\n",
    "from mlxtend.feature_selection import ColumnSelector\n",
    "from sklearn.pipeline import make_pipeline\n",
    "from catboost import CatBoostClassifier\n",
    "from sklearn.neighbors import KNeighborsClassifier\n",
    "import time\n",
    "start_time = time.time()  # 记录程序开始运行时间\n",
    "#0-8 #9-21 #22-30 #31-40\n",
    "pipe1 = make_pipeline(ColumnSelector(cols=(0,1,2,3,4,5,6,7,8,9,10,11,12,13,14,15,16,17,\n",
    "                                           18,19,20,21,22,23,24,25,26,27,28,29,30,31,32,33,34,35,36,37,38,39,40)),\n",
    "                      DecisionTreeClassifier())\n",
    "sclf = StackingClassifier(classifiers=[pipe1], use_probas=True,\n",
    "                          average_probas=True,meta_classifier=RandomForestClassifier())\n",
    "sclf.fit(X_train, y_train)\n",
    "y_pred = sclf.predict(X_test)\n",
    "getScore(y_test,y_pred)\n",
    "end_time = time.time()  # 记录程序结束运行时间\n",
    "print('Took %f second' % (end_time - start_time))"
   ]
  },
  {
   "cell_type": "markdown",
   "metadata": {},
   "source": [
    "单个分类器"
   ]
  },
  {
   "cell_type": "code",
   "execution_count": 12,
   "metadata": {},
   "outputs": [
    {
     "name": "stdout",
     "output_type": "stream",
     "text": [
      "RandomForestClassifier\n",
      "Accuracy:0.7762597586941093\n",
      "confusion_matrix [[9446  265]\n",
      " [4779 8054]]\n",
      "Recall:0.972711358253527\n",
      "Precision:0.6640421792618629\n",
      "F-M 0.7892713903743315\n",
      "FPR:0.3723992830982623\n",
      "AUC:0.8001560375776323\n",
      "Took 2.424555 second\n",
      "ExtraTreesClassifier\n",
      "Accuracy:0.7602909865152591\n",
      "confusion_matrix [[9424  287]\n",
      " [5117 7716]]\n",
      "Recall:0.9704458861085367\n",
      "Precision:0.6480984801595489\n",
      "F-M 0.7771730166584199\n",
      "FPR:0.39873762954881947\n",
      "AUC:0.7858541282798586\n",
      "Took 2.135287 second\n",
      "DecisionTreeClassifier\n",
      "Accuracy:0.8155606813342796\n",
      "confusion_matrix [[9392  319]\n",
      " [3839 8994]]\n",
      "Recall:0.9671506538976419\n",
      "Precision:0.7098480840450457\n",
      "F-M 0.8187603521924854\n",
      "FPR:0.2991506272890205\n",
      "AUC:0.8340000133043107\n",
      "Took 0.247380 second\n",
      "LGBMClassifier\n",
      "Accuracy:0.7824254790631654\n",
      "confusion_matrix [[9420  291]\n",
      " [4614 8219]]\n",
      "Recall:0.9700339820821748\n",
      "Precision:0.6712270200940573\n",
      "F-M 0.7934301958307012\n",
      "FPR:0.3595418062806826\n",
      "AUC:0.805246087900746\n",
      "Took 1.065739 second\n",
      "GaussianNB\n",
      "Accuracy:0.48695883605393897\n",
      "confusion_matrix [[ 9294   417]\n",
      " [11149  1684]]\n",
      "Recall:0.9570590052517763\n",
      "Precision:0.45462994668101553\n",
      "F-M 0.6164356304304569\n",
      "FPR:0.8687758123587626\n",
      "AUC:0.544141596446507\n",
      "Took 0.145019 second\n",
      "MultinomialNB\n",
      "Accuracy:0.5923527324343506\n",
      "confusion_matrix [[9395  316]\n",
      " [8874 3959]]\n",
      "Recall:0.9674595819174132\n",
      "Precision:0.5142591274837156\n",
      "F-M 0.6715511079342388\n",
      "FPR:0.6914984804800125\n",
      "AUC:0.6379805507187004\n",
      "Took 0.176630 second\n",
      "KNeighborsClassifier\n",
      "Accuracy:0.7816713981547196\n",
      "confusion_matrix [[9399  312]\n",
      " [4610 8223]]\n",
      "Recall:0.9678714859437751\n",
      "Precision:0.6709258333928189\n",
      "F-M 0.792495784148398\n",
      "FPR:0.3592301098729837\n",
      "AUC:0.8043206880353957\n",
      "Took 5.234591 second\n"
     ]
    }
   ],
   "source": [
    "from sklearn.naive_bayes import GaussianNB\n",
    "from sklearn.neighbors import KNeighborsClassifier\n",
    "from sklearn.naive_bayes import MultinomialNB\n",
    "import time\n",
    "clfs = [RandomForestClassifier(),ExtraTreesClassifier(),DecisionTreeClassifier(),LGBMClassifier(),GaussianNB(),MultinomialNB(),KNeighborsClassifier()]\n",
    "tips=['RandomForestClassifier','ExtraTreesClassifier','DecisionTreeClassifier','LGBMClassifier','GaussianNB','MultinomialNB','KNeighborsClassifier']\n",
    "for tip,clf in zip(tips,clfs):\n",
    "    print(tip)\n",
    "    start_time = time.time()  # 记录程序开始运行时间\n",
    "    clf.fit(X_train,y_train)\n",
    "    y_pred = clf.predict(X_test)\n",
    "    getScore(y_test,y_pred) \n",
    "    end_time = time.time()  # 记录程序结束运行时间\n",
    "    print('Took %f second' % (end_time - start_time))"
   ]
  },
  {
   "cell_type": "markdown",
   "metadata": {},
   "source": [
    "投票法"
   ]
  },
  {
   "cell_type": "code",
   "execution_count": 13,
   "metadata": {},
   "outputs": [
    {
     "name": "stdout",
     "output_type": "stream",
     "text": [
      "Accuracy:0.8144073811213627\n",
      "confusion_matrix [[9400  311]\n",
      " [3873 8960]]\n",
      "Recall:0.9679744619503655\n",
      "Precision:0.7082046259323439\n",
      "F-M 0.8179603202227637\n",
      "FPR:0.30180004675446115\n",
      "AUC:0.8330872075979521\n",
      "Took 2.558153 second\n"
     ]
    }
   ],
   "source": [
    "from sklearn.ensemble import VotingClassifier\n",
    "start_time = time.time()  # 记录程序开始运行时间\n",
    "clfs = [\n",
    "        ('DecisionTreeClassifier', DecisionTreeClassifier()),\n",
    "        ('RandomForestClassifier',RandomForestClassifier())\n",
    "    ]\n",
    "clf = VotingClassifier(estimators=clfs, voting='soft')\n",
    "clf.fit(X_train, y_train)\n",
    "y_pred = clf.predict(X_test)\n",
    "getScore(y_test,y_pred)\n",
    "end_time = time.time()  # 记录程序结束运行时间\n",
    "print('Took %f second' % (end_time - start_time))"
   ]
  },
  {
   "cell_type": "code",
   "execution_count": null,
   "metadata": {},
   "outputs": [],
   "source": []
  }
 ],
 "metadata": {
  "kernelspec": {
   "display_name": "Python 3",
   "language": "python",
   "name": "python3"
  },
  "language_info": {
   "codemirror_mode": {
    "name": "ipython",
    "version": 3
   },
   "file_extension": ".py",
   "mimetype": "text/x-python",
   "name": "python",
   "nbconvert_exporter": "python",
   "pygments_lexer": "ipython3",
   "version": "3.6.2"
  }
 },
 "nbformat": 4,
 "nbformat_minor": 4
}
